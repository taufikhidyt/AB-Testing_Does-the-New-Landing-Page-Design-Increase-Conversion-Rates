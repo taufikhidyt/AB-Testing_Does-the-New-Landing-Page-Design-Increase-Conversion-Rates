{
  "nbformat": 4,
  "nbformat_minor": 0,
  "metadata": {
    "colab": {
      "provenance": []
    },
    "kernelspec": {
      "name": "python3",
      "display_name": "Python 3"
    },
    "language_info": {
      "name": "python"
    }
  },
  "cells": [
    {
      "cell_type": "markdown",
      "source": [
        "# 1. Introduction"
      ],
      "metadata": {
        "id": "IKJe2oN73Cfo"
      }
    },
    {
      "cell_type": "markdown",
      "source": [
        "A/B testing is a fundamental methodology in data science and digital marketing allowing organizations to make data-driven decisions regarding changes in their products or services. In this project, we aim to evaluate the impact of a new website design on user engagement. User engagement is a critical metric for website performance, often measured by the amount of time users spend on the site. By comparing user behavior between the current website design (control group) and the new design (treatment group), we can determine if the redesign leads to increased engagement.\n",
        "\n",
        "**Project Objectives**:\n",
        "\n",
        "**Determine the Effectiveness of the New Design**: Assess whether the new website design improves user engagement compared to the old design.\n",
        "\n",
        "Dataset: https://www.kaggle.com/datasets/zhangluyuan/ab-testing/data\n"
      ],
      "metadata": {
        "id": "D8L5mErU3H-5"
      }
    },
    {
      "cell_type": "code",
      "execution_count": 4,
      "metadata": {
        "id": "4-PQSL5ueLPk"
      },
      "outputs": [],
      "source": [
        "import pandas as pd\n",
        "import numpy as np\n",
        "import matplotlib.pyplot as plt\n",
        "import seaborn as sns\n",
        "from scipy import stats\n",
        "from scipy.stats import norm"
      ]
    },
    {
      "cell_type": "code",
      "source": [
        "df = pd.read_csv('ab_data.csv')\n",
        "df.head()"
      ],
      "metadata": {
        "colab": {
          "base_uri": "https://localhost:8080/",
          "height": 206
        },
        "id": "We1gAbcPrys-",
        "outputId": "0f3f2ab3-bd86-4f39-ba8d-123286b960a4"
      },
      "execution_count": 5,
      "outputs": [
        {
          "output_type": "execute_result",
          "data": {
            "text/plain": [
              "   user_id timestamp      group landing_page  converted\n",
              "0   851104   11:48.6    control     old_page        0.0\n",
              "1   804228   01:45.2    control     old_page        0.0\n",
              "2   661590   55:06.2  treatment     new_page        0.0\n",
              "3   853541   28:03.1  treatment     new_page        0.0\n",
              "4   864975   52:26.2    control     old_page        1.0"
            ],
            "text/html": [
              "\n",
              "  <div id=\"df-bde25efa-8a78-4bec-bf11-ef99eeb52c50\" class=\"colab-df-container\">\n",
              "    <div>\n",
              "<style scoped>\n",
              "    .dataframe tbody tr th:only-of-type {\n",
              "        vertical-align: middle;\n",
              "    }\n",
              "\n",
              "    .dataframe tbody tr th {\n",
              "        vertical-align: top;\n",
              "    }\n",
              "\n",
              "    .dataframe thead th {\n",
              "        text-align: right;\n",
              "    }\n",
              "</style>\n",
              "<table border=\"1\" class=\"dataframe\">\n",
              "  <thead>\n",
              "    <tr style=\"text-align: right;\">\n",
              "      <th></th>\n",
              "      <th>user_id</th>\n",
              "      <th>timestamp</th>\n",
              "      <th>group</th>\n",
              "      <th>landing_page</th>\n",
              "      <th>converted</th>\n",
              "    </tr>\n",
              "  </thead>\n",
              "  <tbody>\n",
              "    <tr>\n",
              "      <th>0</th>\n",
              "      <td>851104</td>\n",
              "      <td>11:48.6</td>\n",
              "      <td>control</td>\n",
              "      <td>old_page</td>\n",
              "      <td>0.0</td>\n",
              "    </tr>\n",
              "    <tr>\n",
              "      <th>1</th>\n",
              "      <td>804228</td>\n",
              "      <td>01:45.2</td>\n",
              "      <td>control</td>\n",
              "      <td>old_page</td>\n",
              "      <td>0.0</td>\n",
              "    </tr>\n",
              "    <tr>\n",
              "      <th>2</th>\n",
              "      <td>661590</td>\n",
              "      <td>55:06.2</td>\n",
              "      <td>treatment</td>\n",
              "      <td>new_page</td>\n",
              "      <td>0.0</td>\n",
              "    </tr>\n",
              "    <tr>\n",
              "      <th>3</th>\n",
              "      <td>853541</td>\n",
              "      <td>28:03.1</td>\n",
              "      <td>treatment</td>\n",
              "      <td>new_page</td>\n",
              "      <td>0.0</td>\n",
              "    </tr>\n",
              "    <tr>\n",
              "      <th>4</th>\n",
              "      <td>864975</td>\n",
              "      <td>52:26.2</td>\n",
              "      <td>control</td>\n",
              "      <td>old_page</td>\n",
              "      <td>1.0</td>\n",
              "    </tr>\n",
              "  </tbody>\n",
              "</table>\n",
              "</div>\n",
              "    <div class=\"colab-df-buttons\">\n",
              "\n",
              "  <div class=\"colab-df-container\">\n",
              "    <button class=\"colab-df-convert\" onclick=\"convertToInteractive('df-bde25efa-8a78-4bec-bf11-ef99eeb52c50')\"\n",
              "            title=\"Convert this dataframe to an interactive table.\"\n",
              "            style=\"display:none;\">\n",
              "\n",
              "  <svg xmlns=\"http://www.w3.org/2000/svg\" height=\"24px\" viewBox=\"0 -960 960 960\">\n",
              "    <path d=\"M120-120v-720h720v720H120Zm60-500h600v-160H180v160Zm220 220h160v-160H400v160Zm0 220h160v-160H400v160ZM180-400h160v-160H180v160Zm440 0h160v-160H620v160ZM180-180h160v-160H180v160Zm440 0h160v-160H620v160Z\"/>\n",
              "  </svg>\n",
              "    </button>\n",
              "\n",
              "  <style>\n",
              "    .colab-df-container {\n",
              "      display:flex;\n",
              "      gap: 12px;\n",
              "    }\n",
              "\n",
              "    .colab-df-convert {\n",
              "      background-color: #E8F0FE;\n",
              "      border: none;\n",
              "      border-radius: 50%;\n",
              "      cursor: pointer;\n",
              "      display: none;\n",
              "      fill: #1967D2;\n",
              "      height: 32px;\n",
              "      padding: 0 0 0 0;\n",
              "      width: 32px;\n",
              "    }\n",
              "\n",
              "    .colab-df-convert:hover {\n",
              "      background-color: #E2EBFA;\n",
              "      box-shadow: 0px 1px 2px rgba(60, 64, 67, 0.3), 0px 1px 3px 1px rgba(60, 64, 67, 0.15);\n",
              "      fill: #174EA6;\n",
              "    }\n",
              "\n",
              "    .colab-df-buttons div {\n",
              "      margin-bottom: 4px;\n",
              "    }\n",
              "\n",
              "    [theme=dark] .colab-df-convert {\n",
              "      background-color: #3B4455;\n",
              "      fill: #D2E3FC;\n",
              "    }\n",
              "\n",
              "    [theme=dark] .colab-df-convert:hover {\n",
              "      background-color: #434B5C;\n",
              "      box-shadow: 0px 1px 3px 1px rgba(0, 0, 0, 0.15);\n",
              "      filter: drop-shadow(0px 1px 2px rgba(0, 0, 0, 0.3));\n",
              "      fill: #FFFFFF;\n",
              "    }\n",
              "  </style>\n",
              "\n",
              "    <script>\n",
              "      const buttonEl =\n",
              "        document.querySelector('#df-bde25efa-8a78-4bec-bf11-ef99eeb52c50 button.colab-df-convert');\n",
              "      buttonEl.style.display =\n",
              "        google.colab.kernel.accessAllowed ? 'block' : 'none';\n",
              "\n",
              "      async function convertToInteractive(key) {\n",
              "        const element = document.querySelector('#df-bde25efa-8a78-4bec-bf11-ef99eeb52c50');\n",
              "        const dataTable =\n",
              "          await google.colab.kernel.invokeFunction('convertToInteractive',\n",
              "                                                    [key], {});\n",
              "        if (!dataTable) return;\n",
              "\n",
              "        const docLinkHtml = 'Like what you see? Visit the ' +\n",
              "          '<a target=\"_blank\" href=https://colab.research.google.com/notebooks/data_table.ipynb>data table notebook</a>'\n",
              "          + ' to learn more about interactive tables.';\n",
              "        element.innerHTML = '';\n",
              "        dataTable['output_type'] = 'display_data';\n",
              "        await google.colab.output.renderOutput(dataTable, element);\n",
              "        const docLink = document.createElement('div');\n",
              "        docLink.innerHTML = docLinkHtml;\n",
              "        element.appendChild(docLink);\n",
              "      }\n",
              "    </script>\n",
              "  </div>\n",
              "\n",
              "\n",
              "<div id=\"df-629159e2-74ee-43a4-a9ee-b50623f3237e\">\n",
              "  <button class=\"colab-df-quickchart\" onclick=\"quickchart('df-629159e2-74ee-43a4-a9ee-b50623f3237e')\"\n",
              "            title=\"Suggest charts\"\n",
              "            style=\"display:none;\">\n",
              "\n",
              "<svg xmlns=\"http://www.w3.org/2000/svg\" height=\"24px\"viewBox=\"0 0 24 24\"\n",
              "     width=\"24px\">\n",
              "    <g>\n",
              "        <path d=\"M19 3H5c-1.1 0-2 .9-2 2v14c0 1.1.9 2 2 2h14c1.1 0 2-.9 2-2V5c0-1.1-.9-2-2-2zM9 17H7v-7h2v7zm4 0h-2V7h2v10zm4 0h-2v-4h2v4z\"/>\n",
              "    </g>\n",
              "</svg>\n",
              "  </button>\n",
              "\n",
              "<style>\n",
              "  .colab-df-quickchart {\n",
              "      --bg-color: #E8F0FE;\n",
              "      --fill-color: #1967D2;\n",
              "      --hover-bg-color: #E2EBFA;\n",
              "      --hover-fill-color: #174EA6;\n",
              "      --disabled-fill-color: #AAA;\n",
              "      --disabled-bg-color: #DDD;\n",
              "  }\n",
              "\n",
              "  [theme=dark] .colab-df-quickchart {\n",
              "      --bg-color: #3B4455;\n",
              "      --fill-color: #D2E3FC;\n",
              "      --hover-bg-color: #434B5C;\n",
              "      --hover-fill-color: #FFFFFF;\n",
              "      --disabled-bg-color: #3B4455;\n",
              "      --disabled-fill-color: #666;\n",
              "  }\n",
              "\n",
              "  .colab-df-quickchart {\n",
              "    background-color: var(--bg-color);\n",
              "    border: none;\n",
              "    border-radius: 50%;\n",
              "    cursor: pointer;\n",
              "    display: none;\n",
              "    fill: var(--fill-color);\n",
              "    height: 32px;\n",
              "    padding: 0;\n",
              "    width: 32px;\n",
              "  }\n",
              "\n",
              "  .colab-df-quickchart:hover {\n",
              "    background-color: var(--hover-bg-color);\n",
              "    box-shadow: 0 1px 2px rgba(60, 64, 67, 0.3), 0 1px 3px 1px rgba(60, 64, 67, 0.15);\n",
              "    fill: var(--button-hover-fill-color);\n",
              "  }\n",
              "\n",
              "  .colab-df-quickchart-complete:disabled,\n",
              "  .colab-df-quickchart-complete:disabled:hover {\n",
              "    background-color: var(--disabled-bg-color);\n",
              "    fill: var(--disabled-fill-color);\n",
              "    box-shadow: none;\n",
              "  }\n",
              "\n",
              "  .colab-df-spinner {\n",
              "    border: 2px solid var(--fill-color);\n",
              "    border-color: transparent;\n",
              "    border-bottom-color: var(--fill-color);\n",
              "    animation:\n",
              "      spin 1s steps(1) infinite;\n",
              "  }\n",
              "\n",
              "  @keyframes spin {\n",
              "    0% {\n",
              "      border-color: transparent;\n",
              "      border-bottom-color: var(--fill-color);\n",
              "      border-left-color: var(--fill-color);\n",
              "    }\n",
              "    20% {\n",
              "      border-color: transparent;\n",
              "      border-left-color: var(--fill-color);\n",
              "      border-top-color: var(--fill-color);\n",
              "    }\n",
              "    30% {\n",
              "      border-color: transparent;\n",
              "      border-left-color: var(--fill-color);\n",
              "      border-top-color: var(--fill-color);\n",
              "      border-right-color: var(--fill-color);\n",
              "    }\n",
              "    40% {\n",
              "      border-color: transparent;\n",
              "      border-right-color: var(--fill-color);\n",
              "      border-top-color: var(--fill-color);\n",
              "    }\n",
              "    60% {\n",
              "      border-color: transparent;\n",
              "      border-right-color: var(--fill-color);\n",
              "    }\n",
              "    80% {\n",
              "      border-color: transparent;\n",
              "      border-right-color: var(--fill-color);\n",
              "      border-bottom-color: var(--fill-color);\n",
              "    }\n",
              "    90% {\n",
              "      border-color: transparent;\n",
              "      border-bottom-color: var(--fill-color);\n",
              "    }\n",
              "  }\n",
              "</style>\n",
              "\n",
              "  <script>\n",
              "    async function quickchart(key) {\n",
              "      const quickchartButtonEl =\n",
              "        document.querySelector('#' + key + ' button');\n",
              "      quickchartButtonEl.disabled = true;  // To prevent multiple clicks.\n",
              "      quickchartButtonEl.classList.add('colab-df-spinner');\n",
              "      try {\n",
              "        const charts = await google.colab.kernel.invokeFunction(\n",
              "            'suggestCharts', [key], {});\n",
              "      } catch (error) {\n",
              "        console.error('Error during call to suggestCharts:', error);\n",
              "      }\n",
              "      quickchartButtonEl.classList.remove('colab-df-spinner');\n",
              "      quickchartButtonEl.classList.add('colab-df-quickchart-complete');\n",
              "    }\n",
              "    (() => {\n",
              "      let quickchartButtonEl =\n",
              "        document.querySelector('#df-629159e2-74ee-43a4-a9ee-b50623f3237e button');\n",
              "      quickchartButtonEl.style.display =\n",
              "        google.colab.kernel.accessAllowed ? 'block' : 'none';\n",
              "    })();\n",
              "  </script>\n",
              "</div>\n",
              "\n",
              "    </div>\n",
              "  </div>\n"
            ],
            "application/vnd.google.colaboratory.intrinsic+json": {
              "type": "dataframe",
              "variable_name": "df",
              "summary": "{\n  \"name\": \"df\",\n  \"rows\": 58253,\n  \"fields\": [\n    {\n      \"column\": \"user_id\",\n      \"properties\": {\n        \"dtype\": \"number\",\n        \"std\": 91010,\n        \"min\": 630023,\n        \"max\": 945985,\n        \"num_unique_values\": 58103,\n        \"samples\": [\n          652345,\n          773899,\n          665017\n        ],\n        \"semantic_type\": \"\",\n        \"description\": \"\"\n      }\n    },\n    {\n      \"column\": \"timestamp\",\n      \"properties\": {\n        \"dtype\": \"category\",\n        \"num_unique_values\": 28876,\n        \"samples\": [\n          \"10:19.8\",\n          \"56:31.1\",\n          \"25:16.9\"\n        ],\n        \"semantic_type\": \"\",\n        \"description\": \"\"\n      }\n    },\n    {\n      \"column\": \"group\",\n      \"properties\": {\n        \"dtype\": \"category\",\n        \"num_unique_values\": 2,\n        \"samples\": [\n          \"treatment\",\n          \"control\"\n        ],\n        \"semantic_type\": \"\",\n        \"description\": \"\"\n      }\n    },\n    {\n      \"column\": \"landing_page\",\n      \"properties\": {\n        \"dtype\": \"category\",\n        \"num_unique_values\": 2,\n        \"samples\": [\n          \"new_page\",\n          \"old_page\"\n        ],\n        \"semantic_type\": \"\",\n        \"description\": \"\"\n      }\n    },\n    {\n      \"column\": \"converted\",\n      \"properties\": {\n        \"dtype\": \"number\",\n        \"std\": 0.3253405455678404,\n        \"min\": 0.0,\n        \"max\": 1.0,\n        \"num_unique_values\": 2,\n        \"samples\": [\n          1.0,\n          0.0\n        ],\n        \"semantic_type\": \"\",\n        \"description\": \"\"\n      }\n    }\n  ]\n}"
            }
          },
          "metadata": {},
          "execution_count": 5
        }
      ]
    },
    {
      "cell_type": "code",
      "source": [
        "df.info()"
      ],
      "metadata": {
        "colab": {
          "base_uri": "https://localhost:8080/"
        },
        "id": "N0jeyoPuHZ7G",
        "outputId": "bee256f5-4a6d-48d7-a432-74f652430316"
      },
      "execution_count": 6,
      "outputs": [
        {
          "output_type": "stream",
          "name": "stdout",
          "text": [
            "<class 'pandas.core.frame.DataFrame'>\n",
            "RangeIndex: 58253 entries, 0 to 58252\n",
            "Data columns (total 5 columns):\n",
            " #   Column        Non-Null Count  Dtype  \n",
            "---  ------        --------------  -----  \n",
            " 0   user_id       58253 non-null  int64  \n",
            " 1   timestamp     58253 non-null  object \n",
            " 2   group         58252 non-null  object \n",
            " 3   landing_page  58252 non-null  object \n",
            " 4   converted     58252 non-null  float64\n",
            "dtypes: float64(1), int64(1), object(3)\n",
            "memory usage: 2.2+ MB\n"
          ]
        }
      ]
    },
    {
      "cell_type": "markdown",
      "source": [
        "The dataset contains 5 columns , 294480 records:\n",
        "\n",
        "- user_id: unique id of the user who came to the website\n",
        "- timestamp: timestamp that the user came to the page\n",
        "- group: whether the user in treatment group or control group\n",
        "- landing_page: whether the user saw the old page or new page\n",
        "- converted: whether the user converted to a paid user. 1 means converted, 0 means not converted."
      ],
      "metadata": {
        "id": "Q23JXIEhHR7O"
      }
    },
    {
      "cell_type": "markdown",
      "source": [
        "# Data Cleaning"
      ],
      "metadata": {
        "id": "9Sn0sJFzIhoM"
      }
    },
    {
      "cell_type": "markdown",
      "source": [
        "\n",
        "**Remove the mismatched data:**\n",
        "\n",
        "*   Remove the records that control group visit new_page\n",
        "*   Remove the records that treatment group visit old_page\n",
        "\n"
      ],
      "metadata": {
        "id": "uTUspUyNIzLF"
      }
    },
    {
      "cell_type": "code",
      "source": [
        "df =df.drop(df[(df.landing_page == \"new_page\") & (df.group == \"control\")].index)\n",
        "df =df.drop(df[(df.landing_page == \"old_page\") & (df.group == \"treatment\")].index)"
      ],
      "metadata": {
        "id": "i1cw92zRJCi5"
      },
      "execution_count": 7,
      "outputs": []
    },
    {
      "cell_type": "code",
      "source": [
        "pd.crosstab(df['group'], df['landing_page'])"
      ],
      "metadata": {
        "colab": {
          "base_uri": "https://localhost:8080/",
          "height": 143
        },
        "id": "pPpRL-8UJY-L",
        "outputId": "636dc650-48f0-4ca1-b750-742eeae2d830"
      },
      "execution_count": 8,
      "outputs": [
        {
          "output_type": "execute_result",
          "data": {
            "text/plain": [
              "landing_page  new_page  old_page\n",
              "group                           \n",
              "control              0     28727\n",
              "treatment        28727         0"
            ],
            "text/html": [
              "\n",
              "  <div id=\"df-b73e5007-ce7c-4fd0-9e3c-7a82e51a5c64\" class=\"colab-df-container\">\n",
              "    <div>\n",
              "<style scoped>\n",
              "    .dataframe tbody tr th:only-of-type {\n",
              "        vertical-align: middle;\n",
              "    }\n",
              "\n",
              "    .dataframe tbody tr th {\n",
              "        vertical-align: top;\n",
              "    }\n",
              "\n",
              "    .dataframe thead th {\n",
              "        text-align: right;\n",
              "    }\n",
              "</style>\n",
              "<table border=\"1\" class=\"dataframe\">\n",
              "  <thead>\n",
              "    <tr style=\"text-align: right;\">\n",
              "      <th>landing_page</th>\n",
              "      <th>new_page</th>\n",
              "      <th>old_page</th>\n",
              "    </tr>\n",
              "    <tr>\n",
              "      <th>group</th>\n",
              "      <th></th>\n",
              "      <th></th>\n",
              "    </tr>\n",
              "  </thead>\n",
              "  <tbody>\n",
              "    <tr>\n",
              "      <th>control</th>\n",
              "      <td>0</td>\n",
              "      <td>28727</td>\n",
              "    </tr>\n",
              "    <tr>\n",
              "      <th>treatment</th>\n",
              "      <td>28727</td>\n",
              "      <td>0</td>\n",
              "    </tr>\n",
              "  </tbody>\n",
              "</table>\n",
              "</div>\n",
              "    <div class=\"colab-df-buttons\">\n",
              "\n",
              "  <div class=\"colab-df-container\">\n",
              "    <button class=\"colab-df-convert\" onclick=\"convertToInteractive('df-b73e5007-ce7c-4fd0-9e3c-7a82e51a5c64')\"\n",
              "            title=\"Convert this dataframe to an interactive table.\"\n",
              "            style=\"display:none;\">\n",
              "\n",
              "  <svg xmlns=\"http://www.w3.org/2000/svg\" height=\"24px\" viewBox=\"0 -960 960 960\">\n",
              "    <path d=\"M120-120v-720h720v720H120Zm60-500h600v-160H180v160Zm220 220h160v-160H400v160Zm0 220h160v-160H400v160ZM180-400h160v-160H180v160Zm440 0h160v-160H620v160ZM180-180h160v-160H180v160Zm440 0h160v-160H620v160Z\"/>\n",
              "  </svg>\n",
              "    </button>\n",
              "\n",
              "  <style>\n",
              "    .colab-df-container {\n",
              "      display:flex;\n",
              "      gap: 12px;\n",
              "    }\n",
              "\n",
              "    .colab-df-convert {\n",
              "      background-color: #E8F0FE;\n",
              "      border: none;\n",
              "      border-radius: 50%;\n",
              "      cursor: pointer;\n",
              "      display: none;\n",
              "      fill: #1967D2;\n",
              "      height: 32px;\n",
              "      padding: 0 0 0 0;\n",
              "      width: 32px;\n",
              "    }\n",
              "\n",
              "    .colab-df-convert:hover {\n",
              "      background-color: #E2EBFA;\n",
              "      box-shadow: 0px 1px 2px rgba(60, 64, 67, 0.3), 0px 1px 3px 1px rgba(60, 64, 67, 0.15);\n",
              "      fill: #174EA6;\n",
              "    }\n",
              "\n",
              "    .colab-df-buttons div {\n",
              "      margin-bottom: 4px;\n",
              "    }\n",
              "\n",
              "    [theme=dark] .colab-df-convert {\n",
              "      background-color: #3B4455;\n",
              "      fill: #D2E3FC;\n",
              "    }\n",
              "\n",
              "    [theme=dark] .colab-df-convert:hover {\n",
              "      background-color: #434B5C;\n",
              "      box-shadow: 0px 1px 3px 1px rgba(0, 0, 0, 0.15);\n",
              "      filter: drop-shadow(0px 1px 2px rgba(0, 0, 0, 0.3));\n",
              "      fill: #FFFFFF;\n",
              "    }\n",
              "  </style>\n",
              "\n",
              "    <script>\n",
              "      const buttonEl =\n",
              "        document.querySelector('#df-b73e5007-ce7c-4fd0-9e3c-7a82e51a5c64 button.colab-df-convert');\n",
              "      buttonEl.style.display =\n",
              "        google.colab.kernel.accessAllowed ? 'block' : 'none';\n",
              "\n",
              "      async function convertToInteractive(key) {\n",
              "        const element = document.querySelector('#df-b73e5007-ce7c-4fd0-9e3c-7a82e51a5c64');\n",
              "        const dataTable =\n",
              "          await google.colab.kernel.invokeFunction('convertToInteractive',\n",
              "                                                    [key], {});\n",
              "        if (!dataTable) return;\n",
              "\n",
              "        const docLinkHtml = 'Like what you see? Visit the ' +\n",
              "          '<a target=\"_blank\" href=https://colab.research.google.com/notebooks/data_table.ipynb>data table notebook</a>'\n",
              "          + ' to learn more about interactive tables.';\n",
              "        element.innerHTML = '';\n",
              "        dataTable['output_type'] = 'display_data';\n",
              "        await google.colab.output.renderOutput(dataTable, element);\n",
              "        const docLink = document.createElement('div');\n",
              "        docLink.innerHTML = docLinkHtml;\n",
              "        element.appendChild(docLink);\n",
              "      }\n",
              "    </script>\n",
              "  </div>\n",
              "\n",
              "\n",
              "<div id=\"df-25a48a5b-b5ff-45d9-a01b-12eaf0eff133\">\n",
              "  <button class=\"colab-df-quickchart\" onclick=\"quickchart('df-25a48a5b-b5ff-45d9-a01b-12eaf0eff133')\"\n",
              "            title=\"Suggest charts\"\n",
              "            style=\"display:none;\">\n",
              "\n",
              "<svg xmlns=\"http://www.w3.org/2000/svg\" height=\"24px\"viewBox=\"0 0 24 24\"\n",
              "     width=\"24px\">\n",
              "    <g>\n",
              "        <path d=\"M19 3H5c-1.1 0-2 .9-2 2v14c0 1.1.9 2 2 2h14c1.1 0 2-.9 2-2V5c0-1.1-.9-2-2-2zM9 17H7v-7h2v7zm4 0h-2V7h2v10zm4 0h-2v-4h2v4z\"/>\n",
              "    </g>\n",
              "</svg>\n",
              "  </button>\n",
              "\n",
              "<style>\n",
              "  .colab-df-quickchart {\n",
              "      --bg-color: #E8F0FE;\n",
              "      --fill-color: #1967D2;\n",
              "      --hover-bg-color: #E2EBFA;\n",
              "      --hover-fill-color: #174EA6;\n",
              "      --disabled-fill-color: #AAA;\n",
              "      --disabled-bg-color: #DDD;\n",
              "  }\n",
              "\n",
              "  [theme=dark] .colab-df-quickchart {\n",
              "      --bg-color: #3B4455;\n",
              "      --fill-color: #D2E3FC;\n",
              "      --hover-bg-color: #434B5C;\n",
              "      --hover-fill-color: #FFFFFF;\n",
              "      --disabled-bg-color: #3B4455;\n",
              "      --disabled-fill-color: #666;\n",
              "  }\n",
              "\n",
              "  .colab-df-quickchart {\n",
              "    background-color: var(--bg-color);\n",
              "    border: none;\n",
              "    border-radius: 50%;\n",
              "    cursor: pointer;\n",
              "    display: none;\n",
              "    fill: var(--fill-color);\n",
              "    height: 32px;\n",
              "    padding: 0;\n",
              "    width: 32px;\n",
              "  }\n",
              "\n",
              "  .colab-df-quickchart:hover {\n",
              "    background-color: var(--hover-bg-color);\n",
              "    box-shadow: 0 1px 2px rgba(60, 64, 67, 0.3), 0 1px 3px 1px rgba(60, 64, 67, 0.15);\n",
              "    fill: var(--button-hover-fill-color);\n",
              "  }\n",
              "\n",
              "  .colab-df-quickchart-complete:disabled,\n",
              "  .colab-df-quickchart-complete:disabled:hover {\n",
              "    background-color: var(--disabled-bg-color);\n",
              "    fill: var(--disabled-fill-color);\n",
              "    box-shadow: none;\n",
              "  }\n",
              "\n",
              "  .colab-df-spinner {\n",
              "    border: 2px solid var(--fill-color);\n",
              "    border-color: transparent;\n",
              "    border-bottom-color: var(--fill-color);\n",
              "    animation:\n",
              "      spin 1s steps(1) infinite;\n",
              "  }\n",
              "\n",
              "  @keyframes spin {\n",
              "    0% {\n",
              "      border-color: transparent;\n",
              "      border-bottom-color: var(--fill-color);\n",
              "      border-left-color: var(--fill-color);\n",
              "    }\n",
              "    20% {\n",
              "      border-color: transparent;\n",
              "      border-left-color: var(--fill-color);\n",
              "      border-top-color: var(--fill-color);\n",
              "    }\n",
              "    30% {\n",
              "      border-color: transparent;\n",
              "      border-left-color: var(--fill-color);\n",
              "      border-top-color: var(--fill-color);\n",
              "      border-right-color: var(--fill-color);\n",
              "    }\n",
              "    40% {\n",
              "      border-color: transparent;\n",
              "      border-right-color: var(--fill-color);\n",
              "      border-top-color: var(--fill-color);\n",
              "    }\n",
              "    60% {\n",
              "      border-color: transparent;\n",
              "      border-right-color: var(--fill-color);\n",
              "    }\n",
              "    80% {\n",
              "      border-color: transparent;\n",
              "      border-right-color: var(--fill-color);\n",
              "      border-bottom-color: var(--fill-color);\n",
              "    }\n",
              "    90% {\n",
              "      border-color: transparent;\n",
              "      border-bottom-color: var(--fill-color);\n",
              "    }\n",
              "  }\n",
              "</style>\n",
              "\n",
              "  <script>\n",
              "    async function quickchart(key) {\n",
              "      const quickchartButtonEl =\n",
              "        document.querySelector('#' + key + ' button');\n",
              "      quickchartButtonEl.disabled = true;  // To prevent multiple clicks.\n",
              "      quickchartButtonEl.classList.add('colab-df-spinner');\n",
              "      try {\n",
              "        const charts = await google.colab.kernel.invokeFunction(\n",
              "            'suggestCharts', [key], {});\n",
              "      } catch (error) {\n",
              "        console.error('Error during call to suggestCharts:', error);\n",
              "      }\n",
              "      quickchartButtonEl.classList.remove('colab-df-spinner');\n",
              "      quickchartButtonEl.classList.add('colab-df-quickchart-complete');\n",
              "    }\n",
              "    (() => {\n",
              "      let quickchartButtonEl =\n",
              "        document.querySelector('#df-25a48a5b-b5ff-45d9-a01b-12eaf0eff133 button');\n",
              "      quickchartButtonEl.style.display =\n",
              "        google.colab.kernel.accessAllowed ? 'block' : 'none';\n",
              "    })();\n",
              "  </script>\n",
              "</div>\n",
              "\n",
              "    </div>\n",
              "  </div>\n"
            ],
            "application/vnd.google.colaboratory.intrinsic+json": {
              "type": "dataframe",
              "summary": "{\n  \"name\": \"pd\",\n  \"rows\": 2,\n  \"fields\": [\n    {\n      \"column\": \"group\",\n      \"properties\": {\n        \"dtype\": \"string\",\n        \"num_unique_values\": 2,\n        \"samples\": [\n          \"treatment\",\n          \"control\"\n        ],\n        \"semantic_type\": \"\",\n        \"description\": \"\"\n      }\n    },\n    {\n      \"column\": \"new_page\",\n      \"properties\": {\n        \"dtype\": \"number\",\n        \"std\": 20313,\n        \"min\": 0,\n        \"max\": 28727,\n        \"num_unique_values\": 2,\n        \"samples\": [\n          28727,\n          0\n        ],\n        \"semantic_type\": \"\",\n        \"description\": \"\"\n      }\n    },\n    {\n      \"column\": \"old_page\",\n      \"properties\": {\n        \"dtype\": \"number\",\n        \"std\": 20313,\n        \"min\": 0,\n        \"max\": 28727,\n        \"num_unique_values\": 2,\n        \"samples\": [\n          0,\n          28727\n        ],\n        \"semantic_type\": \"\",\n        \"description\": \"\"\n      }\n    }\n  ]\n}"
            }
          },
          "metadata": {},
          "execution_count": 8
        }
      ]
    },
    {
      "cell_type": "code",
      "source": [
        "df.shape"
      ],
      "metadata": {
        "colab": {
          "base_uri": "https://localhost:8080/"
        },
        "id": "wOV_18qXJoTJ",
        "outputId": "00bbb4e8-7d44-41e6-8497-d02e8827d015"
      },
      "execution_count": 9,
      "outputs": [
        {
          "output_type": "execute_result",
          "data": {
            "text/plain": [
              "(57455, 5)"
            ]
          },
          "metadata": {},
          "execution_count": 9
        }
      ]
    },
    {
      "cell_type": "markdown",
      "source": [
        "**Remove duplicate user_id**"
      ],
      "metadata": {
        "id": "hZS_XLz3J1Rs"
      }
    },
    {
      "cell_type": "code",
      "source": [
        "df=df.drop_duplicates(subset=['user_id'])"
      ],
      "metadata": {
        "id": "KEiIrAbGJ7Zw"
      },
      "execution_count": 10,
      "outputs": []
    },
    {
      "cell_type": "markdown",
      "source": [
        "## Visualization"
      ],
      "metadata": {
        "id": "mnaAMBzUL-Im"
      }
    },
    {
      "cell_type": "markdown",
      "source": [
        "A simple bar chart showing the total converted versus no-converted in each group can provide a clear visual comparison of user engagement."
      ],
      "metadata": {
        "id": "khTsRed6MMuQ"
      }
    },
    {
      "cell_type": "code",
      "source": [
        "# Custom palette for yellow and blue\n",
        "palette = {0: 'yellow', 1: 'blue'}  # Assuming 0 is for no-converted, 1 for converted\n",
        "\n",
        "# Plotting the click distribution for each group with the custom colors\n",
        "plt.figure(figsize=(10, 6))\n",
        "ax = sns.countplot(x='group', hue='converted', data=df, palette=palette)\n",
        "plt.title('Convertion Distribution in Treatment and Control Groups')\n",
        "plt.xlabel('Group')\n",
        "plt.ylabel('Count')\n",
        "plt.legend(title='Converted', labels=['No', 'Yes'])\n",
        "\n",
        "# Calculate the percentages and annotate the bars\n",
        "group_counts = df.groupby(['group']).size()\n",
        "group_converted_counts = df.groupby(['group', 'converted']).size().reset_index(name='count')\n",
        "\n",
        "for p in ax.patches:\n",
        "    height = p.get_height()\n",
        "    # Find the group and click type for the current bar\n",
        "    con_treat = 'treatment' if p.get_x() < 0.5 else 'control'\n",
        "    click = 1 if p.get_x() % 1 > 0.5 else 0\n",
        "    total = group_counts.loc[con_treat]\n",
        "    percentage = 100 * height / total\n",
        "    ax.text(p.get_x() + p.get_width() / 2., height + 5, f'{percentage:.1f}%', ha=\"center\", color='black', fontsize=10)\n",
        "\n",
        "plt.tight_layout()\n",
        "plt.show()"
      ],
      "metadata": {
        "colab": {
          "base_uri": "https://localhost:8080/",
          "height": 607
        },
        "id": "6jzlhqVPs2sL",
        "outputId": "2e773c20-334b-47ef-85d0-e8de6e8aad6b"
      },
      "execution_count": 24,
      "outputs": [
        {
          "output_type": "display_data",
          "data": {
            "text/plain": [
              "<Figure size 1000x600 with 1 Axes>"
            ],
            "image/png": "[encoded data removed]"
          },
          "metadata": {}
        }
      ]
    },
    {
      "cell_type": "markdown",
      "source": [
        "# AB Testing"
      ],
      "metadata": {
        "id": "LWZBBrDeMtwg"
      }
    },
    {
      "cell_type": "markdown",
      "source": [
        "## Hypotheses Statement\n"
      ],
      "metadata": {
        "id": "AZ0ujxWQODfF"
      }
    },
    {
      "cell_type": "markdown",
      "source": [
        "To conduct a structured and objective analysis, we define the following hypotheses:\n",
        "\n",
        "**Null Hypothesis (H0)**: The new website design does not impact user engagement, meaning there is no significant difference in the average time spent on the site between the control group and the treatment group.\n",
        "\n",
        "**Alternative Hypothesis (H1)**: The new website design increases user engagement, resulting in a significant difference in the average time spent on the site between the control group and the treatment group."
      ],
      "metadata": {
        "id": "Vh4j16NROIwP"
      }
    },
    {
      "cell_type": "markdown",
      "source": [
        "## Power Analysis\n",
        "\n"
      ],
      "metadata": {
        "id": "5nLWCorpOLdd"
      }
    },
    {
      "cell_type": "markdown",
      "source": [
        "### Parameters of the Model from Power Analysis"
      ],
      "metadata": {
        "id": "6ibuifaTNYgc"
      }
    },
    {
      "cell_type": "code",
      "source": [
        "alpha = 0.05 # 5%\n",
        "print(\"Alpha: significance level is:\", alpha )\n",
        "\n",
        "delta = 0.02 # 10%\n",
        "print(\"Delta: minimum detectable effect is:\", delta )"
      ],
      "metadata": {
        "colab": {
          "base_uri": "https://localhost:8080/"
        },
        "id": "_EeBGps8tdsY",
        "outputId": "91ed96d2-d5d1-43ab-d107-3c7ce5bcc52f"
      },
      "execution_count": 12,
      "outputs": [
        {
          "output_type": "stream",
          "name": "stdout",
          "text": [
            "Alpha: significance level is: 0.05\n",
            "Delta: minimum detectable effect is: 0.02\n"
          ]
        }
      ]
    },
    {
      "cell_type": "markdown",
      "source": [
        "### Calculating total number of converted per group by summing converted"
      ],
      "metadata": {
        "id": "p7W-P_ZRNnuj"
      }
    },
    {
      "cell_type": "code",
      "source": [
        "N_con = df[df[\"group\"] == \"control\"].count()[0]\n",
        "N_exp = df[df[\"group\"] == \"treatment\"].count()[0]\n",
        "\n",
        "# calculating the total number of clicks per group by summing 1's\n",
        "X_con = df.groupby(\"group\")[\"converted\"].sum().loc[\"control\"]\n",
        "X_exp = df.groupby(\"group\")[\"converted\"].sum().loc[\"treatment\"]\n",
        "\n",
        "# printing this for visibility\n",
        "print(df.groupby(\"group\")[\"converted\"].sum())\n",
        "print(\"Number of user in Control: \", N_con)\n",
        "print(\"Number of users in Treatment: \", N_exp)\n",
        "print(\"Number of Converted in Control: \", X_con)\n",
        "print(\"Number of Converted in Treatment: \", X_exp)"
      ],
      "metadata": {
        "id": "bOwAvBNRwnLq",
        "colab": {
          "base_uri": "https://localhost:8080/"
        },
        "outputId": "163b8515-830d-4125-d882-874d357a6b1b"
      },
      "execution_count": 13,
      "outputs": [
        {
          "output_type": "stream",
          "name": "stdout",
          "text": [
            "group\n",
            "control      3498.0\n",
            "treatment    3410.0\n",
            "Name: converted, dtype: float64\n",
            "Number of user in Control:  28727\n",
            "Number of users in Treatment:  28726\n",
            "Number of Converted in Control:  3498.0\n",
            "Number of Converted in Treatment:  3410.0\n"
          ]
        }
      ]
    },
    {
      "cell_type": "markdown",
      "source": [
        "### Calculating Pooled Estimates for Converted per Group"
      ],
      "metadata": {
        "id": "bVCRgS8aOjyo"
      }
    },
    {
      "cell_type": "code",
      "source": [
        "# computing the estimate of click probability per group\n",
        "p_con_hat = X_con/N_con\n",
        "p_exp_hat = X_exp/N_exp\n",
        "print(\"Converted Probability in Control Group:\", p_con_hat)\n",
        "print(\"Converted Probability in Treatment Group:\", p_exp_hat)\n",
        "\n",
        "# computing the estimate of pooled clicked probability\n",
        "p_pooled_hat = (X_con+X_exp)/(N_con + N_exp)\n",
        "print(\"Pooled Converted Probability:\", p_pooled_hat)"
      ],
      "metadata": {
        "colab": {
          "base_uri": "https://localhost:8080/"
        },
        "id": "uo6qh90sNG3N",
        "outputId": "82b41119-65aa-4dd1-93b2-3e9225ae45ab"
      },
      "execution_count": 14,
      "outputs": [
        {
          "output_type": "stream",
          "name": "stdout",
          "text": [
            "Converted Probability in Control Group: 0.12176697880043165\n",
            "Converted Probability in Treatment Group: 0.11870779085149342\n",
            "Pooled Converted Probability: 0.12023741144935861\n"
          ]
        }
      ]
    },
    {
      "cell_type": "markdown",
      "source": [
        "### Calculating Pooled Variance"
      ],
      "metadata": {
        "id": "SMCVpatEO9T5"
      }
    },
    {
      "cell_type": "code",
      "source": [
        "# computing the estimate of pooled variance\n",
        "pooled_variance = p_pooled_hat * (1-p_pooled_hat) * (1/N_con + 1/N_exp)\n",
        "print(\"p^_pooled is: \", p_pooled_hat)\n",
        "print(\"pooled_variance is: \", pooled_variance)"
      ],
      "metadata": {
        "colab": {
          "base_uri": "https://localhost:8080/"
        },
        "id": "D4h4rh2UOwfM",
        "outputId": "dc886126-08ad-4d86-89ac-56901f13eb48"
      },
      "execution_count": 15,
      "outputs": [
        {
          "output_type": "stream",
          "name": "stdout",
          "text": [
            "p^_pooled is:  0.12023741144935861\n",
            "pooled_variance is:  7.364654682565762e-06\n"
          ]
        }
      ]
    },
    {
      "cell_type": "markdown",
      "source": [
        "### Calculating Standard Error and Test Statistics"
      ],
      "metadata": {
        "id": "R0shVI-DPMmf"
      }
    },
    {
      "cell_type": "code",
      "source": [
        "# computing the standard error of the test\n",
        "SE = np.sqrt(pooled_variance)\n",
        "print(\"Standard Error is: \", SE)\n",
        "\n",
        "# computing the test statistics of Z-test\n",
        "Test_stat = (p_con_hat - p_exp_hat)/SE\n",
        "print(\"Test Statistics for 2-sample Z-test is:\", Test_stat)\n",
        "\n",
        "# critical value of the Z-test\n",
        "Z_crit = norm.ppf(1-alpha/2)\n",
        "print(\"Z-critical value from Standard Normal distribution: \", Z_crit)"
      ],
      "metadata": {
        "colab": {
          "base_uri": "https://localhost:8080/"
        },
        "id": "6mWz8sg9PCSF",
        "outputId": "50babb09-5e64-42f8-a840-e438eae38079"
      },
      "execution_count": 16,
      "outputs": [
        {
          "output_type": "stream",
          "name": "stdout",
          "text": [
            "Standard Error is:  0.0027137897270359326\n",
            "Test Statistics for 2-sample Z-test is: 1.127275233766746\n",
            "Z-critical value from Standard Normal distribution:  1.959963984540054\n"
          ]
        }
      ]
    },
    {
      "cell_type": "markdown",
      "source": [
        "### Calculating p_values of the Z-test"
      ],
      "metadata": {
        "id": "LzxXQw6rPkSM"
      }
    },
    {
      "cell_type": "markdown",
      "source": [
        "- A low p-value (p ≤ 0.05 at 5% significance level) indicates strong evidence against the null hypothesis, so we reject the null hypothesis.\n",
        "- A high p-value (p > 0.05) indicates weak evidence against the null hypothesis, so we fail to reject the null hypothesis"
      ],
      "metadata": {
        "id": "7O0bzApQSluO"
      }
    },
    {
      "cell_type": "code",
      "source": [
        "#calculating p value\n",
        "p_value = 2 * norm.sf(abs(Test_stat))\n",
        "\n",
        "# function checking the statistical significance\n",
        "def is_statistical_significance(p_value, alpha):\n",
        "    \"\"\"\n",
        "    We assess whether there is statistical significance based on the p-value and alpha.\n",
        "\n",
        "    Arguments:\n",
        "    - p_value (float): The p-value resulting from a statistical test.\n",
        "    - alpha (float, optional): The significance level threshold used to determine statistical significance. Defaults to 0.05.\n",
        "\n",
        "    Returns:\n",
        "    - Prints the assessment of statistical significance.\n",
        "    \"\"\"\n",
        "\n",
        "    # Print the rounded p-value to 3 decimal places\n",
        "    print(f\"P-value of the 2-sample Z-test: {(p_value)}\")\n",
        "\n",
        "    # Determine statistical significance\n",
        "    if p_value <= alpha:\n",
        "        print(\"There is statistical significance, indicating that the observed differences between the groups are unlikely to have occurred by chance alone. This suggests that the changes in the treatment group have a real effect compared to the control group.\")\n",
        "    else:\n",
        "        print(\"There is no statistical significance, suggesting that the observed differences between the groups could have occurred by chance. This implies that the changes in the treatment group do not have a substantial effect compared to the control group.\")\n",
        "\n",
        "\n",
        "\n",
        "is_statistical_significance(p_value, alpha)"
      ],
      "metadata": {
        "colab": {
          "base_uri": "https://localhost:8080/"
        },
        "id": "pIpPEHqcPTqh",
        "outputId": "391b840a-3d50-473c-a7ae-46188f2bf5e4"
      },
      "execution_count": 17,
      "outputs": [
        {
          "output_type": "stream",
          "name": "stdout",
          "text": [
            "P-value of the 2-sample Z-test: 0.2596261301758964\n",
            "There is no statistical significance, suggesting that the observed differences between the groups could have occurred by chance. This implies that the changes in the treatment group do not have a substantial effect compared to the control group.\n"
          ]
        }
      ]
    },
    {
      "cell_type": "code",
      "source": [
        "# Parameters for the standard normal distribution\n",
        "mu = 0  # Mean\n",
        "sigma = 1  # Standard deviation\n",
        "x = np.linspace(mu - 3*sigma, mu + 3*sigma, 100)\n",
        "y = norm.pdf(x, mu, sigma)\n",
        "\n",
        "\n",
        "# Plotting the standard normal distribution\n",
        "plt.plot(x, y, label='Standard Normal Distribution')\n",
        "# Shade the rejection region for a two-tailed test\n",
        "plt.fill_between(x, y, where=(x > Z_crit) | (x < -Z_crit), color='red', alpha=0.5, label='Rejection Region')\n",
        "# Adding Test Statistic\n",
        "plt.axvline(Test_stat, color='green', linestyle='dashed', linewidth=2, label=f'Test Statistic = {Test_stat:.2f}')\n",
        "# Adding Z-critical values\n",
        "plt.axvline(Z_crit, color='blue', linestyle='dashed', linewidth=1, label=f'Z-critical = {Z_crit:.2f}')\n",
        "plt.axvline(-Z_crit, color='blue', linestyle='dashed', linewidth=1)\n",
        "\n",
        "# Adding labels and title\n",
        "plt.xlabel('Z-value')\n",
        "plt.ylabel('Probability Density')\n",
        "plt.title('Gaussian Distribution with Rejection Region \\n (A/B Testing)')\n",
        "plt.legend()\n",
        "# Show plot\n",
        "plt.show()"
      ],
      "metadata": {
        "colab": {
          "base_uri": "https://localhost:8080/",
          "height": 493
        },
        "id": "6Sc4-AmVSw5d",
        "outputId": "81ca76a6-4e0a-4a45-f365-7f1fd6b2425e"
      },
      "execution_count": 18,
      "outputs": [
        {
          "output_type": "display_data",
          "data": {
            "text/plain": [
              "<Figure size 640x480 with 1 Axes>"
            ],
            "image/png": "[encoded data removed]"
          },
          "metadata": {}
        }
      ]
    },
    {
      "cell_type": "markdown",
      "source": [
        "### Calculating Confidence Interval of the test"
      ],
      "metadata": {
        "id": "rXcHC0VSTDAZ"
      }
    },
    {
      "cell_type": "code",
      "source": [
        "# Calculate the Confidence Interval (CI) for a 2-sample Z-test\n",
        "## Calculate the lower and upper bounds of the confidence interval\n",
        "CI_95 = [\n",
        "    round((p_exp_hat - p_con_hat) - SE*Z_crit, 3),  # Lower bound of the CI, rounded to 3 decimal places\n",
        "    round((p_exp_hat - p_con_hat) + SE*Z_crit, 3)   # Upper bound of the CI, rounded to 3 decimal places\n",
        "]\n",
        "\n",
        "# Print the calculated confidence interval\n",
        "print(\"Confidence Interval of the 2 sample Z-test is: \", CI_95)\n",
        "\n",
        "# Here, the confidence interval provides a range of values within which the true difference between the experimental and control group proportions is likely to lie with a certain level of confidence (e.g., 95%).\n"
      ],
      "metadata": {
        "colab": {
          "base_uri": "https://localhost:8080/"
        },
        "id": "cBbtwuFXS3-L",
        "outputId": "dd23ba9e-6db7-4ba2-c17d-85a85c7c29c9"
      },
      "execution_count": 19,
      "outputs": [
        {
          "output_type": "stream",
          "name": "stdout",
          "text": [
            "Confidence Interval of the 2 sample Z-test is:  [-0.008, 0.002]\n"
          ]
        }
      ]
    },
    {
      "cell_type": "markdown",
      "source": [
        "### Testing for Practical Significance in A/B Testing"
      ],
      "metadata": {
        "id": "G4WwtonHTM7V"
      }
    },
    {
      "cell_type": "code",
      "source": [
        "def is_Practically_significant(delta, CI_95):\n",
        "    \"\"\"\n",
        "    We assess here if the difference between Control and Experimental group is practically significant using the Minimum Detectable Effect (MDE) parameter from the Power Analysis.\n",
        "\n",
        "    Arguments:\n",
        "    - delta (float): The Minimum Detectable Effect (MDE) considered for practical significance.\n",
        "    - CI_95 (tuple): A tuple representing the lower and upper bounds of the 95% Confidence Interval.\n",
        "\n",
        "    Returns:\n",
        "    - Prints whether the experiment has practical significance based on the MDE and CI.\n",
        "    \"\"\"\n",
        "\n",
        "    # Extract lower bound of 95% Confidence Interval\n",
        "    lower_bound_CI = CI_95[0]\n",
        "\n",
        "    # Check if the lower bound of the CI is greater than or equal to delta\n",
        "    if delta <= lower_bound_CI:\n",
        "        print(f\"We have practical significance! \\nWith MDE of {delta}, The difference between Control and Treatment group is practically significant.\")\n",
        "        return True\n",
        "    else:\n",
        "        print(\"We don't have practical significance! \\nThe difference between Control and Treatment group is not practically significant.\")\n",
        "        return False\n",
        "\n",
        "\n",
        "# Call the function\n",
        "significance = is_Practically_significant(delta, CI_95)\n",
        "print(\"Lower bound of 95% confidence interval is:\", CI_95[0])\n"
      ],
      "metadata": {
        "colab": {
          "base_uri": "https://localhost:8080/"
        },
        "id": "QMzd30ToTHPN",
        "outputId": "ff8eba68-483d-4a5f-8b9a-5c691e8aca7c"
      },
      "execution_count": 20,
      "outputs": [
        {
          "output_type": "stream",
          "name": "stdout",
          "text": [
            "We don't have practical significance! \n",
            "The difference between Control and Treatment group is not practically significant.\n",
            "Lower bound of 95% confidence interval is: -0.008\n"
          ]
        }
      ]
    },
    {
      "cell_type": "code",
      "source": [],
      "metadata": {
        "id": "oE-iciOBWCuP"
      },
      "execution_count": null,
      "outputs": []
    },
    {
      "cell_type": "markdown",
      "source": [
        "# Conclusion and Decision"
      ],
      "metadata": {
        "id": "r_I4Vf-VTxOp"
      }
    },
    {
      "cell_type": "markdown",
      "source": [
        "**Conclusion**\n",
        "\n",
        "- There is not enough statistical evidence to claim a significant difference between the two groups (p-value > 0.05 and CI_95 includes 0).\n",
        "- The observed difference is not practically significant, as it is much smaller than the expected delta (0.02).\n",
        "\n",
        "\n",
        "\n",
        "**Decision**\n",
        "\n",
        "\n",
        "Based on the statistical analysis and practical evaluation, the results of this AB testing do not show a significant difference either statistically or practically. Therefore, it is not recommended to implement the change based on these results. You may need to try a different variant or conduct additional experiments with a better design or a larger sample size to detect smaller effects."
      ],
      "metadata": {
        "id": "vea7i8nfV7qO"
      }
    }
  ]
}